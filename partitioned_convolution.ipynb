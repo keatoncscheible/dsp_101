{
 "cells": [
  {
   "cell_type": "markdown",
   "metadata": {},
   "source": [
    "# Partitioned Convolution\n",
    "\n",
    "*This notebook uses [[Wefers, 2015]](README.md) as reference.*\n",
    "\n",
    "Partitioned covolution is a technique that breaks up the input sequence and/or the filter impulse response into *blocks* to increase the efficency of convolution computations. "
   ]
  },
  {
   "cell_type": "markdown",
   "metadata": {},
   "source": [
    "## Input Partitioning\n",
    "\n",
    "Input partitioning involves splitting up an input sequence of potentially indefinte length into blocks of length $B$. The following function below can be used to partition an input sequence of arbitrary size."
   ]
  },
  {
   "cell_type": "code",
   "execution_count": 1,
   "metadata": {},
   "outputs": [],
   "source": [
    "import numpy as np\n",
    "\n",
    "def partition_input(input, B):\n",
    "    \"\"\"Partition input sequence of arbitrary size into blocks of length B. \n",
    "    The last block is zero padded if the input is not equally divisible by B.\n",
    "    \"\"\"\n",
    "    partition_cnt = int(np.ceil(len(input) / B))\n",
    "    zero_pad_cnt = partition_cnt * B - len(input)\n",
    "    zero_padded_input = np.pad(input, (0, zero_pad_cnt))\n",
    "    return np.reshape(zero_padded_input, (partition_cnt, B))"
   ]
  },
  {
   "cell_type": "markdown",
   "metadata": {},
   "source": [
    "## Filter Partitioning\n",
    "\n",
    "Filter partitioning involves splitting up a FIR filters impulse response into sections. There are several methods that can be used to partition a filters impulse response. The method that is selected defines the different classes of convolution algorithms that can be used.\n",
    "\n",
    "Partitioning a filter with an impulse response of length-$N$ involves splitting up the impulse response into $P$ sub filters of length $N_0, ..., N_{P-1}$ such that: \n",
    "\n",
    "$$\\sum_{i = 0}^{P-1} N_i = N$$\n",
    "\n",
    "Or in cases where the subfilters are zero-padded, the following realtionship holds true:\n",
    "\n",
    "$$\\sum_{i = 0}^{P-1} N_i \\ge N$$\n",
    "\n",
    "Each sub filter impulse response $h_i(n)$ relates to a connected interval $n_i^{first} \\le n \\le n_i^{last}$ in the original filter impulse response $h(n)$, and all sub filters are adjoining, such that $n_{i+1}^{first} = n_i^{last} + 1$.\n",
    "\n",
    "The *sub filter length* $N_i$ is defined as:\n",
    "$$N_i = n_i^{last} - n_i^{first} + 1$$\n",
    "\n",
    "The position of the sub filter within the original impulse response is:\n",
    "$$n_i^{first} = \\sum_{j<i} N_j$$\n",
    "\n",
    "The original filter $h(n)$ can be described by the following composition of sub filters:\n",
    "\n",
    "$$h(n) = \\sum_{i = 0}^{P-1} h_i(n - n_i^{first})$$\n",
    "\n",
    "Each consecutive sub filter impulse respose must be the same size or larger than the previous sub filter impulse response such that (TODO: discuss why this is...):\n",
    "\n",
    "$$N_0 \\le N_1 \\le ... \\le N_{P-1}$$\n",
    "\n",
    " If there is only 1 partition, the filter is called *unpartitioned*. If all the sub filters in a partition are of equal size, the filter is called a *uniform partition*, otherwise it is called a *non-uniform partition*."
   ]
  },
  {
   "cell_type": "markdown",
   "metadata": {},
   "source": [
    "## Filter Structure\n",
    "\n",
    "Inserting the partitioned filter into the linear convolution equation gives us:\n",
    "\n",
    "$$\\begin{aligned}\n",
    "y(n) \\quad &= \\quad x(n) * h(n) \\\\\n",
    "&= \\quad x(n) * \\left[ \\sum_{i=0}^{P-1} h_i(n - n_i^{first}) \\right] \n",
    "\\end{aligned}$$\n",
    "\n",
    "And then converting the delays to time-shifted unit impulses gives us the following two equations: \n",
    "\n",
    "$$\\begin{aligned}\n",
    "y(n) \\quad &= \\quad \\sum_{i=0}^{P-1} \\left[ \\left[ x(n) * \\delta(n - n_i^{first}) \\right] * h_i(n) \\right] \\\\\n",
    "&= \\quad \\sum_{i=0}^{P-1} \\left[ \\left[ x(n) * h_i(n) \\right] * \\delta(n - n_i^{first}) \\right]\n",
    "\\end{aligned}$$\n",
    "\n",
    "Both of these equations are equivalent since convolution is commutative. This illustrates that the delays can be moved around when performing the convolution."
   ]
  },
  {
   "cell_type": "markdown",
   "metadata": {},
   "source": [
    "## Classification of Partitioned Convolution Algorithms\n",
    "\n",
    "The image below illustrates different classes of convolution algorithms based on the partitioning of the input sequence and the filter. Only *uniformly partitioned* input sequences are considered for real-time processing, although the other categories can be useful for offline processing.\n",
    "\n",
    "![](images/partitioned_convolution_classification_R3.png 'Classes of Convolution Algorithms')"
   ]
  }
 ],
 "metadata": {
  "interpreter": {
   "hash": "d5431b69f938b2d899f42a1c93c29d1df32923340f062b42b5c47c4002274dd3"
  },
  "kernelspec": {
   "display_name": "Python 3.9.7 64-bit (conda)",
   "language": "python",
   "name": "python3"
  },
  "language_info": {
   "codemirror_mode": {
    "name": "ipython",
    "version": 3
   },
   "file_extension": ".py",
   "mimetype": "text/x-python",
   "name": "python",
   "nbconvert_exporter": "python",
   "pygments_lexer": "ipython3",
   "version": "3.9.7"
  },
  "orig_nbformat": 4
 },
 "nbformat": 4,
 "nbformat_minor": 2
}
